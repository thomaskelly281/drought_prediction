{
 "cells": [
  {
   "cell_type": "markdown",
   "id": "848750e7",
   "metadata": {},
   "source": [
    "# Drought Multiclassification SVM"
   ]
  },
  {
   "cell_type": "markdown",
   "id": "9d0f6343",
   "metadata": {},
   "source": [
    "#### Author: Thomas Kelly\n",
    "\n",
    "I used a multi-classification SVM (Support Vector Machine) to predict drought score (y-label), using T2M_RANGE (Temperature at 2 meters) and PS (Surface Pressure) as our X-label."
   ]
  },
  {
   "cell_type": "code",
   "execution_count": null,
   "id": "8a352d1f",
   "metadata": {},
   "outputs": [],
   "source": [
    "#Importing the necessary packages and libaries\n",
    "from sklearn.metrics import confusion_matrix\n",
    "from sklearn.model_selection import train_test_split\n",
    "from sklearn import svm, datasets\n",
    "import matplotlib.pyplot as plt\n",
    "import numpy as np\n",
    "import pandas as pd\n",
    "from sklearn import preprocessing\n",
    "from sklearn import utils\n",
    "import pickle\n",
    "import seaborn as sns\n",
    "from sklearn.metrics import precision_score, recall_score, f1_score, accuracy_score"
   ]
  },
  {
   "cell_type": "code",
   "execution_count": null,
   "id": "47dde96f",
   "metadata": {},
   "outputs": [],
   "source": [
    "df = pd.read_csv(\"soil_dataset.csv\")\n",
    "\n",
    "# Making df a sample of df if needed to run faster\n",
    "#df = df.sample(n = 40000)"
   ]
  },
  {
   "cell_type": "code",
   "execution_count": null,
   "id": "b2bcc7c1",
   "metadata": {},
   "outputs": [],
   "source": [
    "# Making score into a multiclass classification with scores from 0 - 5\n",
    "df[\"score\"] = df.score.round()\n",
    "\n",
    "# Dropping NaN values\n",
    "df[\"score\"] = df[\"score\"].dropna().astype('int')\n",
    "\n",
    "df[\"T2M_RANGE\"] = df[\"T2M_RANGE\"].dropna().astype('float64')\n",
    "df[\"T2M_RANGE\"] = np.nan_to_num(df[\"T2M_RANGE\"])"
   ]
  },
  {
   "cell_type": "code",
   "execution_count": null,
   "id": "f0461d98",
   "metadata": {},
   "outputs": [],
   "source": [
    "# Creating X, y labels\n",
    "X = df.loc[:, [\"PS\", \"T2M_RANGE\"]]\n",
    "y = df.loc[:, \"score\"]"
   ]
  },
  {
   "cell_type": "code",
   "execution_count": null,
   "id": "d2b2270a",
   "metadata": {},
   "outputs": [],
   "source": [
    "# Creating Train, Test split\n",
    "X_train, X_test, y_train, y_test = train_test_split(X, y, test_size = 0.15, random_state = 0)"
   ]
  },
  {
   "cell_type": "code",
   "execution_count": null,
   "id": "c20398aa",
   "metadata": {},
   "outputs": [],
   "source": [
    "# Iterating through test sizes\n",
    "## If you already know the most accurate kernel and test size, you can comment this cell out\n",
    "\n",
    "test_sizes = [0.5,0.10,0.15,0.20]\n",
    "\n",
    "kernels = [\"lin\",\"poly\",\"rbf\",\"sig\"]\n",
    "\n",
    "for size_val in test_sizes:\n",
    "    X_train, X_test, y_train, y_test = train_test_split(X, y, test_size = size_val, random_state = 0)\n",
    "\n",
    "    X_train = X_train.dropna().astype('float64')\n",
    "    y_train = y_train.dropna().astype('int')\n",
    "\n",
    "    print(X_train.shape)\n",
    "    print(y_train.shape)\n",
    "    print(X_test.shape)\n",
    "    print(y_test.shape)\n",
    "\n",
    "    lab_enc = preprocessing.LabelEncoder()\n",
    "    encoded = lab_enc.fit_transform(y)\n",
    "\n",
    "    linear = svm.SVC(kernel=\"linear\", C=1, decision_function_shape=\"ovo\").fit(X_train, y_train)\n",
    "    rbf = svm.SVC(kernel='rbf', gamma=1, C=1, decision_function_shape='ovo').fit(X_train, y_train)\n",
    "    poly = svm.SVC(kernel='poly', degree=3, C=1, decision_function_shape='ovo').fit(X_train, y_train)\n",
    "    sig = svm.SVC(kernel='sigmoid', C=1, decision_function_shape='ovo').fit(X_train, y_train)\n",
    "\n",
    "    linear_pred = linear.predict(X_test)\n",
    "    poly_pred = poly.predict(X_test)\n",
    "    rbf_pred = rbf.predict(X_test)\n",
    "    sig_pred = sig.predict(X_test)\n",
    "\n",
    "    accuracy_lin = linear.score(X_test, y_test)\n",
    "    accuracy_poly = poly.score(X_test, y_test)\n",
    "    accuracy_rbf = rbf.score(X_test, y_test)\n",
    "    accuracy_sig = sig.score(X_test, y_test)\n",
    "  \n",
    "    print(f\"Test Size = {size_val}%\")\n",
    "    print(\"Accuracy Linear Kernel:\", accuracy_lin)\n",
    "    print(\"Accuracy Polynomial Kernel:\", accuracy_poly)\n",
    "    print(\"Accuracy Radial Basis Kernel:\", accuracy_rbf)\n",
    "    print(\"Accuracy Sigmoid Kernel:\", accuracy_sig)\n",
    "    print(\"\\n\\n\")\n",
    "\n",
    "    # Plotting confusion matixes for each model\n",
    "    cm_lin = confusion_matrix(y_test, linear_pred)\n",
    "    cm_poly = confusion_matrix(y_test, poly_pred)\n",
    "    cm_rbf = confusion_matrix(y_test, rbf_pred)\n",
    "    cm_sig = confusion_matrix(y_test, sig_pred)\n",
    "\n",
    "    sns.heatmap(cm_lin, annot = True)\n",
    "    sns.heatmap(cm_poly, annot = True)\n",
    "    sns.heatmap(cm_rbf, annot = True)\n",
    "    sns.heatmap(cm_sig, annot = True)\n",
    "    \n",
    "    # Exporting each model so we dont lose them\n",
    "    for kernel in kernels:\n",
    "        with open(f\"soil_svm_v2_test_{size_val}_{kernel}\", \"wb\") as f:\n",
    "            if kernel == \"rbf\":\n",
    "                pickle.dump(rbf,f)\n",
    "            elif kernel == \"poly\":\n",
    "                pickle.dump(poly,f)\n",
    "            elif kernel == \"lin\":\n",
    "                pickle.dump(linear,f)\n",
    "            elif kernel == \"sig\":\n",
    "                pickle.dump(sig,f)"
   ]
  },
  {
   "cell_type": "code",
   "execution_count": null,
   "id": "c4cf412c",
   "metadata": {},
   "outputs": [],
   "source": [
    "# Creating Train, Test split\n",
    "X_train, X_test, y_train, y_test = train_test_split(X, y, test_size = 0.15, random_state = 0)"
   ]
  },
  {
   "cell_type": "code",
   "execution_count": null,
   "id": "fff13009",
   "metadata": {},
   "outputs": [],
   "source": [
    "# Dropping any straggling NaN values from Train Split (This was needed for model to run)\n",
    "X_train = X_train.dropna().astype('float64')\n",
    "y_train = y_train.dropna().astype('int')"
   ]
  },
  {
   "cell_type": "code",
   "execution_count": null,
   "id": "e65fdd97",
   "metadata": {},
   "outputs": [],
   "source": [
    "# Normalising Lables to get rid of 'Infinite' values\n",
    "lab_enc = preprocessing.LabelEncoder()\n",
    "encoded = lab_enc.fit_transform(y)"
   ]
  },
  {
   "cell_type": "code",
   "execution_count": null,
   "id": "58fd2fb2",
   "metadata": {},
   "outputs": [],
   "source": [
    "# Using rbf kernel as that has the best accuracy in testing\n",
    "rbf = svm.SVC(kernel='rbf', gamma=1, C=1, decision_function_shape='ovo').fit(X_train, y_train)"
   ]
  },
  {
   "cell_type": "code",
   "execution_count": null,
   "id": "09280226",
   "metadata": {},
   "outputs": [],
   "source": [
    "# Creating our prediction model\n",
    "rbf_pred = rbf.predict(X_test)"
   ]
  },
  {
   "cell_type": "code",
   "execution_count": null,
   "id": "07cd0d53",
   "metadata": {},
   "outputs": [],
   "source": [
    "# Viewing accuracy of model\n",
    "accuracy_rbf = rbf.score(X_test, y_test)\n",
    "print(\"Accuracy Linear Kernel:\", accuracy_rbf)"
   ]
  },
  {
   "cell_type": "code",
   "execution_count": null,
   "id": "70a20fcd",
   "metadata": {},
   "outputs": [],
   "source": [
    "# Creating confusion matrix\n",
    "cm_rbf = confusion_matrix(y_test, rbf_pred)\n",
    "sns.heatmap(cm_rbf, annot = True)"
   ]
  },
  {
   "cell_type": "code",
   "execution_count": null,
   "id": "a2591227",
   "metadata": {},
   "outputs": [],
   "source": [
    "# Getting precision, recall, accuracy and f1 scores from y_test and y_pred\n",
    "print('Precision: %.3f' % precision_score(y_test, rbf_pred))\n",
    "print('Recall: %.3f' % recall_score(y_test, rbf_pred))\n",
    "print('Accuracy: %.3f' % accuracy_score(y_test, rbf_pred))\n",
    "print('F1 Score: %.3f' % f1_score(y_test, rbf_pred))"
   ]
  },
  {
   "cell_type": "code",
   "execution_count": null,
   "id": "d872da88",
   "metadata": {},
   "outputs": [],
   "source": [
    "with open(f\"soil_svm_rbf_final\", \"wb\") as f:\n",
    "      pickle.dump(rbf,f)"
   ]
  }
 ],
 "metadata": {
  "kernelspec": {
   "display_name": "Python 3 (ipykernel)",
   "language": "python",
   "name": "python3"
  },
  "language_info": {
   "codemirror_mode": {
    "name": "ipython",
    "version": 3
   },
   "file_extension": ".py",
   "mimetype": "text/x-python",
   "name": "python",
   "nbconvert_exporter": "python",
   "pygments_lexer": "ipython3",
   "version": "3.9.12"
  }
 },
 "nbformat": 4,
 "nbformat_minor": 5
}
